{
 "cells": [
  {
   "cell_type": "markdown",
   "id": "69571747",
   "metadata": {},
   "source": [
    "### Session 1-27-2022\n",
    "Variaqble Expressions"
   ]
  },
  {
   "cell_type": "code",
   "execution_count": 8,
   "id": "99d0f1c1",
   "metadata": {},
   "outputs": [
    {
     "name": "stdout",
     "output_type": "stream",
     "text": [
      "2300\n",
      "100000000.56\n"
     ]
    }
   ],
   "source": [
    "# declare and initialize a variable\n",
    "\n",
    "age = 2300\n",
    "salary = 100000000.56 # real number - fractions/decimals\n",
    "\n",
    "print(age) #display age\n",
    "print(salary) # display salary"
   ]
  },
  {
   "cell_type": "code",
   "execution_count": 9,
   "id": "7392a3fb",
   "metadata": {},
   "outputs": [
    {
     "name": "stdout",
     "output_type": "stream",
     "text": [
      "Age is: 2,300\n",
      "Salary is: 100,000,000.56\n"
     ]
    }
   ],
   "source": [
    "# format your display -  reduce decimal places\n",
    "\n",
    "print(f\"Age is: {age:,d}\\nSalary is: {salary:,.2f}\")"
   ]
  },
  {
   "cell_type": "code",
   "execution_count": 18,
   "id": "8af3bf19",
   "metadata": {},
   "outputs": [
    {
     "name": "stdout",
     "output_type": "stream",
     "text": [
      "Age is: 2,300\n",
      "Salary is: $      100,000,000.56\n"
     ]
    }
   ],
   "source": [
    "# display in right formatted 15 spaces\n",
    "\n",
    "print(f\"Age is: {age:,d}\\nSalary is: ${salary:>20,.2f}\")\n",
    "\n"
   ]
  },
  {
   "cell_type": "code",
   "execution_count": 17,
   "id": "622dc2f6",
   "metadata": {},
   "outputs": [],
   "source": [
    "fNumber = 200\n",
    "sNumber = 500\n",
    "sumNumbers = fNumber + sNumber #adds two numbers together"
   ]
  },
  {
   "cell_type": "code",
   "execution_count": 19,
   "id": "022aaf7b",
   "metadata": {},
   "outputs": [
    {
     "name": "stdout",
     "output_type": "stream",
     "text": [
      "700\n"
     ]
    }
   ],
   "source": [
    "print(sumNumbers)"
   ]
  },
  {
   "cell_type": "code",
   "execution_count": 20,
   "id": "59642868",
   "metadata": {},
   "outputs": [
    {
     "name": "stdout",
     "output_type": "stream",
     "text": [
      "700\n"
     ]
    }
   ],
   "source": [
    "print(fNumber + sNumber) #disolay summed value"
   ]
  },
  {
   "cell_type": "code",
   "execution_count": 24,
   "id": "c33447df",
   "metadata": {},
   "outputs": [],
   "source": [
    "# Augmented operator +=, -=, *=, /=\n",
    "\n",
    "# variable with value of 100\n",
    "\n",
    "wNumber = 100\n",
    "mNumber = 200\n",
    "sumNumbers = wNumber + mNumber"
   ]
  },
  {
   "cell_type": "code",
   "execution_count": 26,
   "id": "b9d59b44",
   "metadata": {},
   "outputs": [
    {
     "name": "stdout",
     "output_type": "stream",
     "text": [
      "300\n"
     ]
    }
   ],
   "source": [
    "print(sumNumbers)"
   ]
  },
  {
   "cell_type": "code",
   "execution_count": 27,
   "id": "5e78fcaa",
   "metadata": {},
   "outputs": [
    {
     "name": "stdout",
     "output_type": "stream",
     "text": [
      "300\n"
     ]
    }
   ],
   "source": [
    " wNumber *= 3\n",
    "print(wNumber)"
   ]
  },
  {
   "cell_type": "code",
   "execution_count": 29,
   "id": "04dc7448",
   "metadata": {},
   "outputs": [
    {
     "name": "stdout",
     "output_type": "stream",
     "text": [
      "1\n"
     ]
    }
   ],
   "source": [
    "# modulus %\n",
    "\n",
    "remainder = 10%3\n",
    "print(remainder)"
   ]
  },
  {
   "cell_type": "code",
   "execution_count": null,
   "id": "4ca9a87f",
   "metadata": {},
   "outputs": [],
   "source": [
    "# find a evem number\n",
    "\n"
   ]
  }
 ],
 "metadata": {
  "kernelspec": {
   "display_name": "Python 3 (ipykernel)",
   "language": "python",
   "name": "python3"
  },
  "language_info": {
   "codemirror_mode": {
    "name": "ipython",
    "version": 3
   },
   "file_extension": ".py",
   "mimetype": "text/x-python",
   "name": "python",
   "nbconvert_exporter": "python",
   "pygments_lexer": "ipython3",
   "version": "3.9.7"
  }
 },
 "nbformat": 4,
 "nbformat_minor": 5
}
