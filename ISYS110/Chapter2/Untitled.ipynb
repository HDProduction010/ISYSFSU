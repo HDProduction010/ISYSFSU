{
 "cells": [
  {
   "cell_type": "markdown",
   "id": "cd4f804f",
   "metadata": {},
   "source": [
    "### Problem statement \n",
    "Create a program that gets last name, first name, and address from a user and displays the information on a screen"
   ]
  },
  {
   "cell_type": "code",
   "execution_count": 4,
   "id": "bee3f522",
   "metadata": {},
   "outputs": [
    {
     "name": "stdout",
     "output_type": "stream",
     "text": [
      "Burmeister\n",
      "Wyatt\n",
      "5759 60th ave., Sears\n"
     ]
    }
   ],
   "source": [
    "#Iputs- hardcoded\n",
    "lastName = \"Burmeister\"\n",
    "firstName = \"Wyatt\"\n",
    "address = \"5759 60th ave., Sears\"\n",
    "\n",
    "#processes - none\n",
    "\n",
    "#outputs\n",
    "print(lastName)\n",
    "print(firstName)\n",
    "print(address)"
   ]
  },
  {
   "cell_type": "code",
   "execution_count": null,
   "id": "e2cdd722",
   "metadata": {},
   "outputs": [],
   "source": [
    "#Iputs- hardcoded\n",
    "lastName = input(\"Enter last name: \")\n",
    "firstName = input(\"Enter first name: \")\n",
    "address = input(\"Enter address\")\n",
    "\n",
    "#processes - none\n",
    "\n",
    "#outputs\n",
    "print(lastName)\n",
    "print(firstName)\n",
    "print(address)"
   ]
  },
  {
   "cell_type": "code",
   "execution_count": null,
   "id": "e4df535d",
   "metadata": {},
   "outputs": [],
   "source": [
    "#Iputs- hardcoded\n",
    "lastName = input(\"Enter last name: \")\n",
    "firstName = input(\"Enter first name: \")\n",
    "address = input(\"Enter address\")\n",
    "\n",
    "#processes - none\n",
    "\n",
    "#outputs\n",
    "print(lastName)\n",
    "print(firstName)\n",
    "print(address)"
   ]
  },
  {
   "cell_type": "code",
   "execution_count": null,
   "id": "dfda4775",
   "metadata": {},
   "outputs": [],
   "source": []
  }
 ],
 "metadata": {
  "kernelspec": {
   "display_name": "Python 3 (ipykernel)",
   "language": "python",
   "name": "python3"
  },
  "language_info": {
   "codemirror_mode": {
    "name": "ipython",
    "version": 3
   },
   "file_extension": ".py",
   "mimetype": "text/x-python",
   "name": "python",
   "nbconvert_exporter": "python",
   "pygments_lexer": "ipython3",
   "version": "3.9.7"
  }
 },
 "nbformat": 4,
 "nbformat_minor": 5
}
