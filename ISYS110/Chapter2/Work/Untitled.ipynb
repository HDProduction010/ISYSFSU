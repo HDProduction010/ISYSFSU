{
 "cells": [
  {
   "cell_type": "code",
   "execution_count": 1,
   "id": "344b24d5",
   "metadata": {},
   "outputs": [],
   "source": [
    "#well this is also just test"
   ]
  },
  {
   "cell_type": "code",
   "execution_count": 1,
   "id": "7b8994e7",
   "metadata": {},
   "outputs": [
    {
     "name": "stdout",
     "output_type": "stream",
     "text": [
      "Enter Last NameDecator\n",
      "Enter First NameCayden\n",
      "Enter Address2131654\n",
      "Decator\n",
      "Cayden\n",
      "2131654\n"
     ]
    }
   ],
   "source": [
    "lastName = input (\"Enter Last Name\")\n",
    "firstName = input(\"Enter First Name\")\n",
    "address = input(\"Enter Address\")\n",
    "\n",
    "print(lastName)\n",
    "print(firstName)\n",
    "print(address)"
   ]
  },
  {
   "cell_type": "code",
   "execution_count": 5,
   "id": "2fdf6cd8",
   "metadata": {},
   "outputs": [
    {
     "name": "stdout",
     "output_type": "stream",
     "text": [
      "Enter Your Salary10\n",
      "Your Salary is 10\n"
     ]
    }
   ],
   "source": [
    "salary = input(\"Enter Your Salary\")\n",
    "\n",
    "print(\"Your Salary is\", salary)"
   ]
  },
  {
   "cell_type": "code",
   "execution_count": 6,
   "id": "41c41753",
   "metadata": {},
   "outputs": [
    {
     "name": "stdout",
     "output_type": "stream",
     "text": [
      "Enter Joe's Salary: t\n",
      "Enter Lucy's Salary: t\n",
      "Joe's Salary is: t\n",
      "Lucy's Salary is: t\n"
     ]
    }
   ],
   "source": [
    "joesSalary = input(\"Enter Joe's Salary: \")\n",
    "lucySalary = input(\"Enter Lucy's Salary: \")\n",
    "\n",
    "print(\"Joe's Salary is:\",joesSalary)\n",
    "print(\"Lucy's Salary is:\", lucySalary)\n"
   ]
  },
  {
   "cell_type": "code",
   "execution_count": 7,
   "id": "9c25b347",
   "metadata": {},
   "outputs": [
    {
     "name": "stdout",
     "output_type": "stream",
     "text": [
      "Joe's Salary is: t\n",
      "Lucy's Salary is: t\n",
      "Total Salary: tt\n"
     ]
    }
   ],
   "source": [
    "# Add total Money's up to make a total value\n",
    "\n",
    "totalSalary = joesSalary + lucySalary\n",
    "#display the value in joe's and lucy's salary vars into a total var\n",
    "\n",
    "print(\"Joe's Salary is:\",joesSalary)\n",
    "print(\"Lucy's Salary is:\",lucySalary)\n",
    "print(\"Total Salary:\", totalSalary)"
   ]
  },
  {
   "cell_type": "code",
   "execution_count": null,
   "id": "f7e4e467",
   "metadata": {},
   "outputs": [],
   "source": []
  }
 ],
 "metadata": {
  "kernelspec": {
   "display_name": "Python 3 (ipykernel)",
   "language": "python",
   "name": "python3"
  },
  "language_info": {
   "codemirror_mode": {
    "name": "ipython",
    "version": 3
   },
   "file_extension": ".py",
   "mimetype": "text/x-python",
   "name": "python",
   "nbconvert_exporter": "python",
   "pygments_lexer": "ipython3",
   "version": "3.9.7"
  }
 },
 "nbformat": 4,
 "nbformat_minor": 5
}
