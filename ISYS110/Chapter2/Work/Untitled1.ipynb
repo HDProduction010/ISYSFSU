{
 "cells": [
  {
   "cell_type": "markdown",
   "id": "3f0fa7c3",
   "metadata": {},
   "source": [
    "# Profit Predictiton\n",
    "Calculate the predicted profit based on sales entered by user"
   ]
  },
  {
   "cell_type": "code",
   "execution_count": 8,
   "id": "2548fb66",
   "metadata": {},
   "outputs": [
    {
     "name": "stdout",
     "output_type": "stream",
     "text": [
      "What is the predicted sales amount?: 10\n",
      "Total Sale:  10.0\n",
      "totalProfit:  2.3000000000000003\n"
     ]
    }
   ],
   "source": [
    "# set vars\n",
    "profitPercent = .23\n",
    "salesAmount = 0.0\n",
    "totalProfit = 0\n",
    "\n",
    "#inputs - ask user for predicted sales amount - convert input to float\n",
    "salesAmount = float(input(\"What is the predicted sales amount?: \"))\n",
    "\n",
    "# process - calculate projected profit - 23% of sales amount\n",
    "\n",
    "totalProfit = salesAmount * profitPercent\n",
    "\n",
    "# display - total profit\n",
    "print(\"Total Sale: \",salesAmount)\n",
    "print(\"totalProfit: \",totalProfit)"
   ]
  },
  {
   "cell_type": "code",
   "execution_count": 12,
   "id": "08a94369",
   "metadata": {},
   "outputs": [
    {
     "name": "stdout",
     "output_type": "stream",
     "text": [
      "Total sale: $10.00\n",
      "Total Profit: $2.30\n"
     ]
    }
   ],
   "source": [
    "print(f\"Total sale: ${salesAmount:,.2f}\\nTotal Profit: ${totalProfit:,.2f}\")"
   ]
  },
  {
   "cell_type": "code",
   "execution_count": null,
   "id": "9ab9861b",
   "metadata": {},
   "outputs": [],
   "source": []
  }
 ],
 "metadata": {
  "kernelspec": {
   "display_name": "Python 3 (ipykernel)",
   "language": "python",
   "name": "python3"
  },
  "language_info": {
   "codemirror_mode": {
    "name": "ipython",
    "version": 3
   },
   "file_extension": ".py",
   "mimetype": "text/x-python",
   "name": "python",
   "nbconvert_exporter": "python",
   "pygments_lexer": "ipython3",
   "version": "3.9.7"
  }
 },
 "nbformat": 4,
 "nbformat_minor": 5
}
