{
 "cells": [
  {
   "cell_type": "markdown",
   "id": "af7cba60",
   "metadata": {},
   "source": [
    "### Problem statement \n",
    "Create a program that gets last name, first name, and address from a user and displays the information on a screen"
   ]
  },
  {
   "cell_type": "code",
   "execution_count": 4,
   "id": "0739d004",
   "metadata": {},
   "outputs": [
    {
     "name": "stdout",
     "output_type": "stream",
     "text": [
      "Burmeister\n",
      "Wyatt\n",
      "5759 60th ave., Sears\n"
     ]
    }
   ],
   "source": [
    "#Iputs- hardcoded\n",
    "lastName = \"Burmeister\"\n",
    "firstName = \"Wyatt\"\n",
    "address = \"5759 60th ave., Sears\"\n",
    "\n",
    "#processes - none\n",
    "\n",
    "#outputs\n",
    "print(lastName)\n",
    "print(firstName)\n",
    "print(address)"
   ]
  },
  {
   "cell_type": "code",
   "execution_count": null,
   "id": "d6a48aef",
   "metadata": {},
   "outputs": [],
   "source": [
    "#Iputs- hardcoded\n",
    "lastName = input(\"Enter last name: \")\n",
    "firstName = input(\"Enter first name: \")\n",
    "address = input(\"Enter address\")\n",
    "\n",
    "#processes - none\n",
    "\n",
    "#outputs\n",
    "print(lastName)\n",
    "print(firstName)\n",
    "print(address)"
   ]
  },
  {
   "cell_type": "code",
   "execution_count": null,
   "id": "3cd74de4",
   "metadata": {},
   "outputs": [],
   "source": [
    "#Iputs- hardcoded\n",
    "lastName = input(\"Enter last name: \")\n",
    "firstName = input(\"Enter first name: \")\n",
    "address = input(\"Enter address\")\n",
    "\n",
    "#processes - none\n",
    "\n",
    "#outputs\n",
    "print(lastName)\n",
    "print(firstName)\n",
    "print(address)"
   ]
  },
  {
   "cell_type": "code",
   "execution_count": 1,
   "id": "f4c2bad7",
   "metadata": {},
   "outputs": [
    {
     "name": "stdout",
     "output_type": "stream",
     "text": [
      "Enter your salary: 1000000\n",
      "Your salary is: 1000000\n"
     ]
    }
   ],
   "source": [
    "salary = input(\"Enter your salary: \")\n",
    "\n",
    "print(\"Your salary is:\", salary)"
   ]
  },
  {
   "cell_type": "code",
   "execution_count": 3,
   "id": "13974dc3",
   "metadata": {},
   "outputs": [
    {
     "name": "stdout",
     "output_type": "stream",
     "text": [
      "Joe's salary: 15000000\n",
      "Lucy's salary:1000000\n",
      "Joe's salary is:  15000000\n",
      "Lucy's salary is:  1000000\n"
     ]
    }
   ],
   "source": [
    "joesSalary = input(\"Joe's salary: \")\n",
    "lucySalary = input(\"Lucy's salary:\")\n",
    "\n",
    "print(\"Joe's salary is: \",joesSalary)\n",
    "print(\"Lucy's salary is: \", lucySalary)"
   ]
  },
  {
   "cell_type": "code",
   "execution_count": 5,
   "id": "8e65a437",
   "metadata": {},
   "outputs": [
    {
     "name": "stdout",
     "output_type": "stream",
     "text": [
      "Joe's salary is:  15000000\n",
      "Lucy's salary is: 1000000\n",
      "Total salary:  150000001000000\n"
     ]
    }
   ],
   "source": [
    "#Add joe and lucy salaries and save inot new variable\n",
    "totalSalary= joesSalary + lucySalary\n",
    "\n",
    "#display the value in joe's, Lucy's salary variables and total variable\n",
    "print(\"Joe's salary is: \", joesSalary)\n",
    "print(\"Lucy's salary is:\", lucySalary)\n",
    "print(\"Total salary: \", totalSalary)"
   ]
  },
  {
   "cell_type": "code",
   "execution_count": null,
   "id": "d7ea5b2c",
   "metadata": {},
   "outputs": [],
   "source": []
  }
 ],
 "metadata": {
  "kernelspec": {
   "display_name": "Python 3 (ipykernel)",
   "language": "python",
   "name": "python3"
  },
  "language_info": {
   "codemirror_mode": {
    "name": "ipython",
    "version": 3
   },
   "file_extension": ".py",
   "mimetype": "text/x-python",
   "name": "python",
   "nbconvert_exporter": "python",
   "pygments_lexer": "ipython3",
   "version": "3.9.7"
  }
 },
 "nbformat": 4,
 "nbformat_minor": 5
}
